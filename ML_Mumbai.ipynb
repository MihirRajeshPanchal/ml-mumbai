{
  "cells": [
    {
      "cell_type": "markdown",
      "metadata": {
        "id": "kJS3SYevJV9m"
      },
      "source": [
        "[![Open In Colab](https://colab.research.google.com/assets/colab-badge.svg)](https://colab.research.google.com/drive/1d6pJ24hRORxupbt8-zt6zjKYC6JNSDRG?usp=sharing)\n",
        "\n",
        "# ML Mumbai Notebook\n",
        "![image.png](data:image/png;base64,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)"
      ]
    },
    {
      "cell_type": "markdown",
      "metadata": {
        "id": "OTQd_K3FJV9n"
      },
      "source": [
        "## Install Dependencies\n",
        "Documentation: [LangChain](https://python.langchain.com/docs/get_started/introduction), [langchain-groq](https://pypi.org/project/langchain-groq/)\n",
        "\n",
        "This cell installs the required packages for LangChain and the Groq integration.\n"
      ]
    },
    {
      "cell_type": "code",
      "execution_count": null,
      "metadata": {
        "colab": {
          "base_uri": "https://localhost:8080/"
        },
        "id": "0PnUSTlvGKAy",
        "outputId": "6be32dce-5601-4a3b-b714-d7fcbcfc1202"
      },
      "outputs": [
        {
          "name": "stdout",
          "output_type": "stream",
          "text": [
            "Requirement already satisfied: langchain in /usr/local/lib/python3.11/dist-packages (0.3.26)\n",
            "Requirement already satisfied: langchain_groq in /usr/local/lib/python3.11/dist-packages (0.3.6)\n",
            "Requirement already satisfied: langchain-core<1.0.0,>=0.3.66 in /usr/local/lib/python3.11/dist-packages (from langchain) (0.3.69)\n",
            "Requirement already satisfied: langchain-text-splitters<1.0.0,>=0.3.8 in /usr/local/lib/python3.11/dist-packages (from langchain) (0.3.8)\n",
            "Requirement already satisfied: langsmith>=0.1.17 in /usr/local/lib/python3.11/dist-packages (from langchain) (0.4.6)\n",
            "Requirement already satisfied: pydantic<3.0.0,>=2.7.4 in /usr/local/lib/python3.11/dist-packages (from langchain) (2.11.7)\n",
            "Requirement already satisfied: SQLAlchemy<3,>=1.4 in /usr/local/lib/python3.11/dist-packages (from langchain) (2.0.41)\n",
            "Requirement already satisfied: requests<3,>=2 in /usr/local/lib/python3.11/dist-packages (from langchain) (2.32.3)\n",
            "Requirement already satisfied: PyYAML>=5.3 in /usr/local/lib/python3.11/dist-packages (from langchain) (6.0.2)\n",
            "Requirement already satisfied: groq<1,>=0.29.0 in /usr/local/lib/python3.11/dist-packages (from langchain_groq) (0.30.0)\n",
            "Requirement already satisfied: anyio<5,>=3.5.0 in /usr/local/lib/python3.11/dist-packages (from groq<1,>=0.29.0->langchain_groq) (4.9.0)\n",
            "Requirement already satisfied: distro<2,>=1.7.0 in /usr/local/lib/python3.11/dist-packages (from groq<1,>=0.29.0->langchain_groq) (1.9.0)\n",
            "Requirement already satisfied: httpx<1,>=0.23.0 in /usr/local/lib/python3.11/dist-packages (from groq<1,>=0.29.0->langchain_groq) (0.28.1)\n",
            "Requirement already satisfied: sniffio in /usr/local/lib/python3.11/dist-packages (from groq<1,>=0.29.0->langchain_groq) (1.3.1)\n",
            "Requirement already satisfied: typing-extensions<5,>=4.10 in /usr/local/lib/python3.11/dist-packages (from groq<1,>=0.29.0->langchain_groq) (4.14.1)\n",
            "Requirement already satisfied: tenacity!=8.4.0,<10.0.0,>=8.1.0 in /usr/local/lib/python3.11/dist-packages (from langchain-core<1.0.0,>=0.3.66->langchain) (8.5.0)\n",
            "Requirement already satisfied: jsonpatch<2.0,>=1.33 in /usr/local/lib/python3.11/dist-packages (from langchain-core<1.0.0,>=0.3.66->langchain) (1.33)\n",
            "Requirement already satisfied: packaging>=23.2 in /usr/local/lib/python3.11/dist-packages (from langchain-core<1.0.0,>=0.3.66->langchain) (25.0)\n",
            "Requirement already satisfied: orjson<4.0.0,>=3.9.14 in /usr/local/lib/python3.11/dist-packages (from langsmith>=0.1.17->langchain) (3.11.0)\n",
            "Requirement already satisfied: requests-toolbelt<2.0.0,>=1.0.0 in /usr/local/lib/python3.11/dist-packages (from langsmith>=0.1.17->langchain) (1.0.0)\n",
            "Requirement already satisfied: zstandard<0.24.0,>=0.23.0 in /usr/local/lib/python3.11/dist-packages (from langsmith>=0.1.17->langchain) (0.23.0)\n",
            "Requirement already satisfied: annotated-types>=0.6.0 in /usr/local/lib/python3.11/dist-packages (from pydantic<3.0.0,>=2.7.4->langchain) (0.7.0)\n",
            "Requirement already satisfied: pydantic-core==2.33.2 in /usr/local/lib/python3.11/dist-packages (from pydantic<3.0.0,>=2.7.4->langchain) (2.33.2)\n",
            "Requirement already satisfied: typing-inspection>=0.4.0 in /usr/local/lib/python3.11/dist-packages (from pydantic<3.0.0,>=2.7.4->langchain) (0.4.1)\n",
            "Requirement already satisfied: charset-normalizer<4,>=2 in /usr/local/lib/python3.11/dist-packages (from requests<3,>=2->langchain) (3.4.2)\n",
            "Requirement already satisfied: idna<4,>=2.5 in /usr/local/lib/python3.11/dist-packages (from requests<3,>=2->langchain) (3.10)\n",
            "Requirement already satisfied: urllib3<3,>=1.21.1 in /usr/local/lib/python3.11/dist-packages (from requests<3,>=2->langchain) (2.4.0)\n",
            "Requirement already satisfied: certifi>=2017.4.17 in /usr/local/lib/python3.11/dist-packages (from requests<3,>=2->langchain) (2025.7.14)\n",
            "Requirement already satisfied: greenlet>=1 in /usr/local/lib/python3.11/dist-packages (from SQLAlchemy<3,>=1.4->langchain) (3.2.3)\n",
            "Requirement already satisfied: httpcore==1.* in /usr/local/lib/python3.11/dist-packages (from httpx<1,>=0.23.0->groq<1,>=0.29.0->langchain_groq) (1.0.9)\n",
            "Requirement already satisfied: h11>=0.16 in /usr/local/lib/python3.11/dist-packages (from httpcore==1.*->httpx<1,>=0.23.0->groq<1,>=0.29.0->langchain_groq) (0.16.0)\n",
            "Requirement already satisfied: jsonpointer>=1.9 in /usr/local/lib/python3.11/dist-packages (from jsonpatch<2.0,>=1.33->langchain-core<1.0.0,>=0.3.66->langchain) (3.0.0)\n"
          ]
        }
      ],
      "source": [
        "# Install langchain and langchain-groq packages\n",
        "!pip install langchain langchain_groq"
      ]
    },
    {
      "cell_type": "markdown",
      "metadata": {
        "id": "YCWekH76JV9p"
      },
      "source": [
        "## Import Libraries\n",
        "Documentation: [LangChain Groq](https://python.langchain.com/docs/integrations/chat/groq/)\n",
        "\n",
        "You can also use other Chat Models as well [Chat Models](https://python.langchain.com/docs/integrations/chat/)\n"
      ]
    },
    {
      "cell_type": "code",
      "execution_count": null,
      "metadata": {
        "id": "jvrc9gPCF4u1"
      },
      "outputs": [],
      "source": [
        "# Import ChatGroq for interacting with the Groq API\n",
        "from langchain_groq import ChatGroq\n",
        "import os"
      ]
    },
    {
      "cell_type": "markdown",
      "metadata": {
        "id": "tQMooIKWJV9q"
      },
      "source": [
        "## Set API Key\n",
        "\n",
        "This cell sets the GROQ_API_KEY environment variable for authentication with the Groq API.\n",
        "\n",
        "[Get your API Key](https://console.groq.com/authenticate/login?stytch_token_type=oauth&token=tC7Xf5m70dyX6m7PHeF_QtU-Dea5ygKEZmBtmAh0dubP)\n"
      ]
    },
    {
      "cell_type": "code",
      "execution_count": null,
      "metadata": {
        "id": "RNzz8BA0GXTi"
      },
      "outputs": [],
      "source": [
        "# Set the GROQ_API_KEY environment variable\n",
        "os.environ[\"GROQ_API_KEY\"] = \"\""
      ]
    },
    {
      "cell_type": "markdown",
      "metadata": {
        "id": "Bqfo5wdYJV9q"
      },
      "source": [
        "## Initialize Language Model\n",
        "Documentation: [Models available to use in Groq](https://console.groq.com/docs/models)\n",
        "\n",
        "This cell initializes the ChatGroq model with specified parameters.\n"
      ]
    },
    {
      "cell_type": "code",
      "execution_count": null,
      "metadata": {
        "id": "b-8_rgP1GHq3"
      },
      "outputs": [],
      "source": [
        "# Initialize the ChatGroq model with LLaMA 3.1 8B model and temperature setting\n",
        "llm = ChatGroq(\n",
        "    model=\"llama-3.1-8b-instant\",  # Specify the model to use\n",
        "    temperature=0.9,  # Set temperature for response randomness\n",
        ")"
      ]
    },
    {
      "cell_type": "markdown",
      "metadata": {
        "id": "-9S4bfiOJV9r"
      },
      "source": [
        "## Define Data Models\n",
        "Documentation: [Pydantic](https://docs.pydantic.dev/latest/)\n",
        "This cell defines Pydantic models for structuring reasoning steps and paths.\n"
      ]
    },
    {
      "cell_type": "code",
      "execution_count": null,
      "metadata": {
        "id": "z6FSQT7nGVnU"
      },
      "outputs": [],
      "source": [
        "# Import necessary modules for data modeling\n",
        "import uuid\n",
        "from pydantic import BaseModel, Field\n",
        "from typing import List\n",
        "\n",
        "# Define a model for individual reasoning steps\n",
        "class ReasoningStep(BaseModel):\n",
        "    id: uuid.UUID = Field(default_factory=uuid.uuid4, description=\"Unique identifier for the reasoning step\")\n",
        "    step: str = Field(description=\"Description of the reasoning step\")\n",
        "\n",
        "# Define a model for a reasoning path containing multiple steps\n",
        "class ReasoningPath(BaseModel):\n",
        "    steps: List[ReasoningStep] = Field(description=\"List of reasoning steps\")\n",
        "    answer: str = Field(description=\"Final answer of the path\")\n",
        "\n",
        "# Define a model for multiple reasoning paths\n",
        "class ReasoningPaths(BaseModel):\n",
        "    paths: List[ReasoningPath] = Field(description=\"List of reasoning paths\")"
      ]
    },
    {
      "cell_type": "markdown",
      "metadata": {
        "id": "TGv9nfmyJV9r"
      },
      "source": [
        "## Define Prompt Template\n",
        "Documentation: [PromptTemplate](https://python.langchain.com/api_reference/core/prompts/langchain_core.prompts.prompt.PromptTemplate.html)\n",
        "\n",
        "This cell defines a prompt template for generating multiple reasoning paths for a given problem.\n"
      ]
    },
    {
      "cell_type": "code",
      "execution_count": null,
      "metadata": {
        "id": "kEDIN28YHZTM"
      },
      "outputs": [],
      "source": [
        "# Import PromptTemplate for creating structured prompts\n",
        "from langchain.prompts import PromptTemplate\n",
        "\n",
        "# Define a prompt template for generating reasoning paths\n",
        "generate_thoughts_prompt = PromptTemplate(\n",
        "    input_variables=[\"problem\"],\n",
        "    template=\"\"\"\n",
        "    You are a mathematical reasoning expert. For the given problem, generate multiple distinct reasoning paths to solve it. Each path should be a step-by-step explanation leading to the solution. Output in JSON format as follows:\n",
        "    {{\n",
        "        \"paths\": [\n",
        "            {{\n",
        "                \"steps\": [{{\"step\": \"Description of step 1\"}}, {{\"step\": \"Description of step 2\"}}, ...],\n",
        "                \"answer\": \"Final answer\"\n",
        "            }},\n",
        "            {{\n",
        "                \"steps\": [{{\"step\": \"Description of step 1\"}}, {{\"step\": \"Description of step 2\"}}, ...],\n",
        "                \"answer\": \"Final answer\"\n",
        "            }},\n",
        "            {{\n",
        "                \"steps\": [{{\"step\": \"Description of step 1\"}}, {{\"step\": \"Description of step 2\"}}, ...],\n",
        "                \"answer\": \"Final answer\"\n",
        "            }}\n",
        "        ]\n",
        "    }}\n",
        "\n",
        "    Problem: {problem}\n",
        "    Guidelines:\n",
        "    - The final answer should be a concise solution to the problem without unnecessary details.\n",
        "    \"\"\"\n",
        ")"
      ]
    },
    {
      "cell_type": "markdown",
      "metadata": {
        "id": "xeOZEf4kJV9s"
      },
      "source": [
        "## Define Reasoning Function\n",
        "Documentation: [OutputFixingParser](https://python.langchain.com/api_reference/langchain/output_parsers/langchain.output_parsers.fix.OutputFixingParser.html), [JsonOutputParser](https://python.langchain.com/api_reference/core/output_parsers/langchain_core.output_parsers.json.JsonOutputParser.html)\n",
        "\n",
        "This cell defines a function to generate reasoning paths using the language model and parse the output.\n"
      ]
    },
    {
      "cell_type": "code",
      "execution_count": null,
      "metadata": {
        "id": "fNycMskHHoVM"
      },
      "outputs": [],
      "source": [
        "# Import parsers for handling model output\n",
        "from langchain.output_parsers import OutputFixingParser\n",
        "from langchain_core.output_parsers import JsonOutputParser\n",
        "\n",
        "# Define a function to generate reasoning paths for a given problem\n",
        "def generate_thoughts(problem, llm):\n",
        "    # Create a chain combining the prompt, model, and output parser\n",
        "    generate_chain = generate_thoughts_prompt | llm | OutputFixingParser.from_llm(\n",
        "        parser=JsonOutputParser(pydantic_object=ReasoningPaths), llm=llm, max_retries = 3\n",
        "    )\n",
        "    # Invoke the chain with the input problem\n",
        "    result = generate_chain.invoke({\"problem\": problem})\n",
        "\n",
        "    return result"
      ]
    },
    {
      "cell_type": "markdown",
      "metadata": {
        "id": "DYcMJ8KCJV9s"
      },
      "source": [
        "## Run the Reasoning System\n",
        "This cell prompts the user for a mathematical problem and generates reasoning paths using the defined function.\n",
        "\n",
        "[GSM8K Dataset](https://huggingface.co/datasets/openai/gsm8k)\n",
        "\n",
        "Some Example Inputs\n",
        "```\n",
        "Weng earns $12 an hour for babysitting. Yesterday, she just did 50 minutes of babysitting. How much did she earn?\n",
        "```\n",
        "Answer : 10\n",
        "\n",
        "```\n",
        "Joy can read 8 pages of a book in 20 minutes. How many hours will it take her to read 120 pages?\n",
        "```\n",
        "\n",
        "Answer : 5"
      ]
    },
    {
      "cell_type": "code",
      "execution_count": null,
      "metadata": {
        "colab": {
          "base_uri": "https://localhost:8080/",
          "height": 573
        },
        "id": "Cx9dSzkZHveL",
        "outputId": "532277ee-46d3-43ab-c9be-897673cc5909"
      },
      "outputs": [
        {
          "name": "stdout",
          "output_type": "stream",
          "text": [
            "Enter a Mathematical Problem : Weng earns $12 an hour for babysitting. Yesterday, she just did 50 minutes of babysitting. How much did she earn?\n"
          ]
        },
        {
          "data": {
            "application/json": {
              "paths": [
                {
                  "answer": "$10",
                  "steps": [
                    "First, convert 50 minutes to hours by dividing by 60 (since 1 hour = 60 minutes).",
                    "The calculation is 50 / 60 = 0.8333 hours.",
                    "Since Weng earns $12 an hour, we multiply 0.8333 hours by $12 to get her total earnings.",
                    "The calculation is 0.8333 * 12 = $10."
                  ]
                },
                {
                  "answer": "$10",
                  "steps": [
                    "Determine the hourly rate and the time worked in hours.",
                    "Weng's hourly rate is $12, and she worked for 0.8333 hours (or 50 minutes).",
                    "Multiply the hourly rate by the time worked to find her earnings.",
                    "Her earnings are $12 * 0.8333 = $10."
                  ]
                },
                {
                  "answer": "$10",
                  "steps": [
                    "Convert 50 minutes to a decimal value by dividing by 60.",
                    "50 / 60 = 0.8333 hours.",
                    "Multiply the decimal value by Weng's hourly rate of $12 to get her earnings.",
                    "0.8333 * 12 = $10."
                  ]
                }
              ]
            },
            "text/plain": [
              "<IPython.core.display.JSON object>"
            ]
          },
          "execution_count": 17,
          "metadata": {
            "application/json": {
              "expanded": true,
              "root": "root"
            }
          },
          "output_type": "execute_result"
        }
      ],
      "source": [
        "from IPython.display import JSON\n",
        "# Prompt the user for a mathematical problem and generate reasoning paths\n",
        "result = generate_thoughts(input(\"Enter a Mathematical Problem : \"), llm)\n",
        "JSON(result, expanded=True)"
      ]
    },
    {
      "cell_type": "code",
      "execution_count": null,
      "metadata": {
        "id": "7KzTZJetNKCm"
      },
      "outputs": [],
      "source": []
    }
  ],
  "metadata": {
    "colab": {
      "provenance": []
    },
    "kernelspec": {
      "display_name": "Python 3",
      "name": "python3"
    },
    "language_info": {
      "name": "python"
    }
  },
  "nbformat": 4,
  "nbformat_minor": 0
}
